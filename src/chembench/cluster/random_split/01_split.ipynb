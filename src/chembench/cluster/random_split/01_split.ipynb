{
 "cells": [
  {
   "cell_type": "code",
   "execution_count": 11,
   "metadata": {},
   "outputs": [],
   "source": [
    "import numpy as np\n",
    "import pandas as pd\n",
    "from tqdm import tqdm\n",
    "from rdkit import Chem\n",
    "import seaborn as sns\n",
    "\n",
    "import tmap, os\n",
    "\n",
    "from chembench import dataset\n",
    "\n",
    "from sklearn.model_selection import KFold\n",
    "\n",
    "import matplotlib.pyplot as plt\n",
    "%matplotlib inline\n",
    "tqdm.pandas(ascii=True)\n",
    "np.random.seed(123)\n",
    "\n"
   ]
  },
  {
   "cell_type": "code",
   "execution_count": 12,
   "metadata": {},
   "outputs": [],
   "source": [
    "n_fold = 5"
   ]
  },
  {
   "cell_type": "code",
   "execution_count": 13,
   "metadata": {},
   "outputs": [
    {
     "name": "stdout",
     "output_type": "stream",
     "text": [
      "total samples: 1128\n",
      "total samples: 4200\n",
      "total samples: 9999\n",
      "total samples: 9880\n",
      "total samples: 41127\n",
      "total samples: 1513\n",
      "total samples: 2039\n"
     ]
    }
   ],
   "source": [
    "esol = dataset.load_ESOL()\n",
    "lipop = dataset.load_Lipop()\n",
    "malaria = dataset.load_Malaria()\n",
    "pdbf = dataset.load_PDBF()\n",
    "hiv = dataset.load_HIV()\n",
    "bace = dataset.load_BACE()\n",
    "bbbp = dataset.load_BBBP()"
   ]
  },
  {
   "cell_type": "code",
   "execution_count": 14,
   "metadata": {},
   "outputs": [],
   "source": [
    "random_seeds = [2, 32, 128, 512, 1024]\n",
    "cols = ['rd_%s' % i for i in random_seeds]\n",
    "\n",
    "data_save_folder = './rand_split_results/'\n",
    "if not os.path.exists(data_save_folder):\n",
    "    os.makedirs(data_save_folder)\n",
    "\n",
    "    \n",
    "for data in [esol, lipop, malaria, hiv, bace, bbbp , pdbf]:\n",
    "    \n",
    "    task_name = data.task_name\n",
    "    df = pd.DataFrame(data.x, columns = ['smiles'])\n",
    "    df[task_name] = data.y\n",
    "\n",
    "    ncols = []\n",
    "    for seed, col in zip(random_seeds, cols):\n",
    "        kf = KFold(n_splits=5, shuffle = True, random_state=seed)\n",
    "        gb = {}\n",
    "        i = 1\n",
    "        for tr, ts in kf.split(range(len(df))):\n",
    "            gb.update(dict(zip(ts, [i for x in ts])))\n",
    "            i += 1\n",
    "        ncol = pd.Series(gb).sort_index()\n",
    "        ncols.append(ncol)\n",
    "        \n",
    "    dfc = pd.concat(ncols, axis=1)\n",
    "    dfc.columns = cols\n",
    "    dfc.to_csv(os.path.join(data_save_folder, 'rd_split_%s.csv' % task_name))"
   ]
  },
  {
   "cell_type": "code",
   "execution_count": null,
   "metadata": {},
   "outputs": [],
   "source": []
  },
  {
   "cell_type": "code",
   "execution_count": null,
   "metadata": {},
   "outputs": [],
   "source": []
  }
 ],
 "metadata": {
  "kernelspec": {
   "display_name": "Python 3",
   "language": "python",
   "name": "python3"
  },
  "language_info": {
   "codemirror_mode": {
    "name": "ipython",
    "version": 3
   },
   "file_extension": ".py",
   "mimetype": "text/x-python",
   "name": "python",
   "nbconvert_exporter": "python",
   "pygments_lexer": "ipython3",
   "version": "3.6.10"
  }
 },
 "nbformat": 4,
 "nbformat_minor": 4
}
