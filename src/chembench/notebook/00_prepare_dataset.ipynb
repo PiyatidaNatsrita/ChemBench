{
 "cells": [
  {
   "cell_type": "markdown",
   "metadata": {},
   "source": [
    "# These codes and splits based on [Wu et al's MoleculeNet](https://pubs.rsc.org/en/content/articlelanding/2018/sc/c7sc02664a#!divAbstract) work: \n",
    "\n",
    " - Their codes: \n",
    "     * https://github.com/deepchem/deepchem/blob/master/examples/benchmark.py\n",
    "     * http://deepchem.io.s3-website-us-west-1.amazonaws.com/trained_models/Hyperparameter_MoleculeNetv3.tar.gz\n",
    "     \n",
    " - req:\n",
    "    * deepchem: 2.4.0\n",
    "    * tensorflow: 2.0.0\n",
    "    * sklearn: 2.3"
   ]
  },
  {
   "cell_type": "markdown",
   "metadata": {},
   "source": []
  },
  {
   "cell_type": "code",
   "execution_count": 2,
   "metadata": {},
   "outputs": [
    {
     "data": {
      "text/plain": [
       "'2.4.0-rc1.dev'"
      ]
     },
     "execution_count": 2,
     "metadata": {},
     "output_type": "execute_result"
    }
   ],
   "source": [
    "import deepchem as dc\n",
    "import numpy as np\n",
    "import pandas as pd\n",
    "import os\n",
    "\n",
    "# set DEEPCHEM_DATA_DIR\n",
    "os.environ.setdefault('DEEPCHEM_DATA_DIR', './temp')\n",
    "dc.__version__"
   ]
  },
  {
   "cell_type": "markdown",
   "metadata": {},
   "source": [
    "## download file from: \n",
    " - full: http://deepchem.io.s3-website-us-west-1.amazonaws.com/datasets/full_smiles_labels.csv,  \n",
    " - core: http://deepchem.io.s3-website-us-west-1.amazonaws.com/datasets/core_smiles_labels.csv;  \n",
    " - refined: http://deepchem.io.s3-website-us-west-1.amazonaws.com/datasets/refined_smiles_labels.csv\n",
    " \n",
    " then put this file to the `DEEPCHEM_DATA_DIR` "
   ]
  },
  {
   "cell_type": "code",
   "execution_count": 2,
   "metadata": {},
   "outputs": [],
   "source": [
    "urls = ['http://deepchem.io.s3-website-us-west-1.amazonaws.com/datasets/full_smiles_labels.csv',\n",
    "        'http://deepchem.io.s3-website-us-west-1.amazonaws.com/datasets/core_smiles_labels.csv',\n",
    "        'http://deepchem.io.s3-website-us-west-1.amazonaws.com/datasets/refined_smiles_labels.csv']\n",
    "\n",
    "if not os.path.exists('./temp'):\n",
    "    os.makedirs('./temp')\n",
    "    \n",
    "for url in urls:\n",
    "    dc.utils.download_url(url, dest_dir= './temp')"
   ]
  },
  {
   "cell_type": "markdown",
   "metadata": {},
   "source": [
    "## 01_time split PDBbind datasets"
   ]
  },
  {
   "cell_type": "code",
   "execution_count": 3,
   "metadata": {},
   "outputs": [],
   "source": [
    "flags = ['full', 'core', 'refined']\n",
    "marker = ['train', 'valid', 'test']\n",
    "\n",
    "for flag in flags:\n",
    "    tasks, trian_valid_test, transformer = dc.molnet.load_pdbbind_grid(split='time', featurizer='Raw', subset = flag)\n",
    "\n",
    "    all_data = []\n",
    "    idx = 0\n",
    "    indexs = []\n",
    "    for i in range(len(trian_valid_test)):\n",
    "        subset = trian_valid_test[i]\n",
    "        dfx = pd.DataFrame(subset.ids, columns = ['smiles'])\n",
    "        dfy = pd.DataFrame(subset.y, columns = tasks)\n",
    "        dfa = dfx.join(dfy)\n",
    "        #dfa['group'] = marker[i]\n",
    "        indexs.append(list(range(idx, idx + len(dfa))))\n",
    "        idx += len(dfa)\n",
    "        all_data.append(dfa)\n",
    "        \n",
    "    df = pd.concat(all_data)\n",
    "    df = df.set_index('smiles')\n",
    "\n",
    "    dirs = os.path.join('./data_and_index', 'PDBbind-%s' % flag)\n",
    "    if not os.path.exists(dirs):\n",
    "        os.makedirs(dirs)\n",
    "        \n",
    "    df.to_csv(os.path.join(dirs, 'PDBbind-%s.csv.gz' % flag), compression='gzip')\n",
    "    ind = pd.Series(indexs)\n",
    "    ind.to_pickle(os.path.join(dirs, 'PDBbind-%s.timesplit.ind.pkl' % flag))"
   ]
  },
  {
   "cell_type": "markdown",
   "metadata": {},
   "source": [
    "## 02_random and scaffold split datasets"
   ]
  },
  {
   "cell_type": "code",
   "execution_count": 3,
   "metadata": {},
   "outputs": [],
   "source": [
    "random_seeds = [122, 123, 124] # the orignal random seeds in paper of MoleculeNet <Wu et al.> "
   ]
  },
  {
   "cell_type": "code",
   "execution_count": 4,
   "metadata": {},
   "outputs": [],
   "source": [
    "# from https://www.deepchem.io/_modules/index.html\n",
    "s3_bucket = 'http://deepchem.io.s3-website-us-west-1.amazonaws.com/datasets/'\n",
    "\n",
    "# load_function, s3_file_name, smiles_field\n",
    "loading_functions = {'ESOL': [dc.molnet.load_delaney,'delaney-processed.csv', 'smiles'],\n",
    "                     'FreeSolv': [dc.molnet.load_sampl, 'SAMPL.csv', 'smiles'],\n",
    "                     'Lipop': [dc.molnet.load_lipo, 'Lipophilicity.csv', 'smiles'],\n",
    "                     'SIDER': [dc.molnet.load_sider, 'sider.csv.gz', 'smiles'],\n",
    "                     'Tox21':  [dc.molnet.load_tox21, 'tox21.csv.gz', 'smiles'], \n",
    "                     'ToxCast': [dc.molnet.load_toxcast, 'toxcast_data.csv.gz', 'smiles'], #merge problems in smiles,after merge dataset change\n",
    "                     'ClinTox': [dc.molnet.load_clintox, 'clintox.csv.gz', 'smiles'],\n",
    "                     'HIV': [dc.molnet.load_hiv, 'HIV.csv', 'smiles'], #merge problems in smiles,after merge dataset change\n",
    "                     'BBBP': [dc.molnet.load_bbbp, 'BBBP.csv', 'smiles'], \n",
    "                     'BACE': [dc.molnet.load_bace_classification, 'bace.csv', 'smiles'],\n",
    "                     'PCBA': [dc.molnet.load_pcba, 'pcba.csv.gz', 'smiles' ],\n",
    "                     'MUV': [dc.molnet.load_muv, 'muv.csv.gz', 'smiles'],\n",
    "                    }\n",
    "\n",
    "scaffold_split_dataset = ['HIV', 'BBBP', 'BACE']\n",
    "splitters = {'random': dc.splits.RandomSplitter(),\n",
    "             'scaffold': dc.splits.ScaffoldSplitter()}"
   ]
  },
  {
   "cell_type": "code",
   "execution_count": 6,
   "metadata": {},
   "outputs": [
    {
     "name": "stderr",
     "output_type": "stream",
     "text": [
      "RDKit WARNING: [12:48:24] Enabling RDKit 2019.09.2 jupyter extensions\n"
     ]
    },
    {
     "name": "stdout",
     "output_type": "stream",
     "text": [
      "ESOL 122 1128 1128 1128 902 113 113\n",
      "ESOL 123 1128 1128 1128 902 113 113\n",
      "ESOL 124 1128 1128 1128 902 113 113\n",
      "FreeSolv 122 642 642 642 513 64 65\n",
      "FreeSolv 123 642 642 642 513 64 65\n",
      "FreeSolv 124 642 642 642 513 64 65\n",
      "Lipop 122 4200 4200 4200 3360 420 420\n",
      "Lipop 123 4200 4200 4200 3360 420 420\n",
      "Lipop 124 4200 4200 4200 3360 420 420\n",
      "SIDER 122 1427 1427 1427 1141 143 143\n",
      "SIDER 123 1427 1427 1427 1141 143 143\n",
      "SIDER 124 1427 1427 1427 1141 143 143\n",
      "Tox21 122 7831 7831 7831 6264 783 784\n",
      "Tox21 123 7831 7831 7831 6264 783 784\n",
      "Tox21 124 7831 7831 7831 6264 783 784\n",
      "ToxCast 122 8597 8576 8576 6860 858 858\n",
      "ToxCast 123 8597 8576 8576 6860 858 858\n",
      "ToxCast 124 8597 8576 8576 6860 858 858\n",
      "ClinTox 122 1484 1478 1478 1182 148 148\n",
      "ClinTox 123 1484 1478 1478 1182 148 148\n",
      "ClinTox 124 1484 1478 1478 1182 148 148\n"
     ]
    },
    {
     "name": "stderr",
     "output_type": "stream",
     "text": [
      "RDKit WARNING: [12:49:02] WARNING: not removing hydrogen atom without neighbors\n",
      "RDKit WARNING: [12:49:02] WARNING: not removing hydrogen atom without neighbors\n"
     ]
    },
    {
     "name": "stdout",
     "output_type": "stream",
     "text": [
      "HIV 122 41127 41127 41127 32901 4113 4113\n"
     ]
    },
    {
     "name": "stderr",
     "output_type": "stream",
     "text": [
      "RDKit WARNING: [12:49:16] WARNING: not removing hydrogen atom without neighbors\n",
      "RDKit WARNING: [12:49:16] WARNING: not removing hydrogen atom without neighbors\n"
     ]
    },
    {
     "name": "stdout",
     "output_type": "stream",
     "text": [
      "HIV 123 41127 41127 41127 32901 4113 4113\n"
     ]
    },
    {
     "name": "stderr",
     "output_type": "stream",
     "text": [
      "RDKit WARNING: [12:49:29] WARNING: not removing hydrogen atom without neighbors\n",
      "RDKit WARNING: [12:49:29] WARNING: not removing hydrogen atom without neighbors\n"
     ]
    },
    {
     "name": "stdout",
     "output_type": "stream",
     "text": [
      "HIV 124 41127 41127 41127 32901 4113 4113\n"
     ]
    },
    {
     "name": "stderr",
     "output_type": "stream",
     "text": [
      "RDKit WARNING: [12:49:35] WARNING: not removing hydrogen atom without neighbors\n",
      "RDKit WARNING: [12:49:35] WARNING: not removing hydrogen atom without neighbors\n",
      "RDKit WARNING: [12:49:35] WARNING: not removing hydrogen atom without neighbors\n",
      "RDKit WARNING: [12:49:35] WARNING: not removing hydrogen atom without neighbors\n",
      "RDKit WARNING: [12:49:35] WARNING: not removing hydrogen atom without neighbors\n",
      "RDKit WARNING: [12:49:35] WARNING: not removing hydrogen atom without neighbors\n",
      "RDKit WARNING: [12:49:35] WARNING: not removing hydrogen atom without neighbors\n",
      "RDKit WARNING: [12:49:35] WARNING: not removing hydrogen atom without neighbors\n",
      "RDKit WARNING: [12:49:35] WARNING: not removing hydrogen atom without neighbors\n",
      "RDKit WARNING: [12:49:35] WARNING: not removing hydrogen atom without neighbors\n",
      "RDKit WARNING: [12:49:35] WARNING: not removing hydrogen atom without neighbors\n",
      "RDKit WARNING: [12:49:35] WARNING: not removing hydrogen atom without neighbors\n",
      "RDKit WARNING: [12:49:35] WARNING: not removing hydrogen atom without neighbors\n",
      "RDKit WARNING: [12:49:35] WARNING: not removing hydrogen atom without neighbors\n",
      "RDKit WARNING: [12:49:35] WARNING: not removing hydrogen atom without neighbors\n",
      "RDKit WARNING: [12:49:35] WARNING: not removing hydrogen atom without neighbors\n",
      "RDKit WARNING: [12:49:35] WARNING: not removing hydrogen atom without neighbors\n",
      "RDKit WARNING: [12:49:35] WARNING: not removing hydrogen atom without neighbors\n",
      "RDKit WARNING: [12:49:35] WARNING: not removing hydrogen atom without neighbors\n",
      "RDKit WARNING: [12:49:35] WARNING: not removing hydrogen atom without neighbors\n",
      "RDKit WARNING: [12:49:35] WARNING: not removing hydrogen atom without neighbors\n",
      "RDKit WARNING: [12:49:35] WARNING: not removing hydrogen atom without neighbors\n",
      "RDKit WARNING: [12:49:35] WARNING: not removing hydrogen atom without neighbors\n",
      "RDKit WARNING: [12:49:35] WARNING: not removing hydrogen atom without neighbors\n",
      "RDKit WARNING: [12:49:35] WARNING: not removing hydrogen atom without neighbors\n",
      "RDKit WARNING: [12:49:35] WARNING: not removing hydrogen atom without neighbors\n",
      "RDKit WARNING: [12:49:35] WARNING: not removing hydrogen atom without neighbors\n",
      "RDKit WARNING: [12:49:35] WARNING: not removing hydrogen atom without neighbors\n",
      "RDKit WARNING: [12:49:35] WARNING: not removing hydrogen atom without neighbors\n",
      "RDKit WARNING: [12:49:35] WARNING: not removing hydrogen atom without neighbors\n",
      "RDKit WARNING: [12:49:35] WARNING: not removing hydrogen atom without neighbors\n",
      "RDKit WARNING: [12:49:35] WARNING: not removing hydrogen atom without neighbors\n",
      "RDKit WARNING: [12:49:35] WARNING: not removing hydrogen atom without neighbors\n",
      "RDKit WARNING: [12:49:35] WARNING: not removing hydrogen atom without neighbors\n",
      "RDKit WARNING: [12:49:35] WARNING: not removing hydrogen atom without neighbors\n",
      "RDKit WARNING: [12:49:35] WARNING: not removing hydrogen atom without neighbors\n",
      "RDKit WARNING: [12:49:35] WARNING: not removing hydrogen atom without neighbors\n",
      "RDKit WARNING: [12:49:35] WARNING: not removing hydrogen atom without neighbors\n",
      "RDKit WARNING: [12:49:35] WARNING: not removing hydrogen atom without neighbors\n",
      "RDKit WARNING: [12:49:35] WARNING: not removing hydrogen atom without neighbors\n",
      "RDKit WARNING: [12:49:35] WARNING: not removing hydrogen atom without neighbors\n",
      "RDKit WARNING: [12:49:35] WARNING: not removing hydrogen atom without neighbors\n"
     ]
    },
    {
     "name": "stdout",
     "output_type": "stream",
     "text": [
      "BBBP 122 2050 2039 2039 1631 204 204\n"
     ]
    },
    {
     "name": "stderr",
     "output_type": "stream",
     "text": [
      "RDKit WARNING: [12:49:35] WARNING: not removing hydrogen atom without neighbors\n",
      "RDKit WARNING: [12:49:35] WARNING: not removing hydrogen atom without neighbors\n",
      "RDKit WARNING: [12:49:35] WARNING: not removing hydrogen atom without neighbors\n",
      "RDKit WARNING: [12:49:35] WARNING: not removing hydrogen atom without neighbors\n",
      "RDKit WARNING: [12:49:35] WARNING: not removing hydrogen atom without neighbors\n",
      "RDKit WARNING: [12:49:35] WARNING: not removing hydrogen atom without neighbors\n",
      "RDKit WARNING: [12:49:35] WARNING: not removing hydrogen atom without neighbors\n",
      "RDKit WARNING: [12:49:35] WARNING: not removing hydrogen atom without neighbors\n",
      "RDKit WARNING: [12:49:35] WARNING: not removing hydrogen atom without neighbors\n",
      "RDKit WARNING: [12:49:35] WARNING: not removing hydrogen atom without neighbors\n",
      "RDKit WARNING: [12:49:35] WARNING: not removing hydrogen atom without neighbors\n",
      "RDKit WARNING: [12:49:35] WARNING: not removing hydrogen atom without neighbors\n",
      "RDKit WARNING: [12:49:35] WARNING: not removing hydrogen atom without neighbors\n",
      "RDKit WARNING: [12:49:35] WARNING: not removing hydrogen atom without neighbors\n",
      "RDKit WARNING: [12:49:35] WARNING: not removing hydrogen atom without neighbors\n",
      "RDKit WARNING: [12:49:36] WARNING: not removing hydrogen atom without neighbors\n",
      "RDKit WARNING: [12:49:36] WARNING: not removing hydrogen atom without neighbors\n",
      "RDKit WARNING: [12:49:36] WARNING: not removing hydrogen atom without neighbors\n",
      "RDKit WARNING: [12:49:36] WARNING: not removing hydrogen atom without neighbors\n",
      "RDKit WARNING: [12:49:36] WARNING: not removing hydrogen atom without neighbors\n",
      "RDKit WARNING: [12:49:36] WARNING: not removing hydrogen atom without neighbors\n",
      "RDKit WARNING: [12:49:36] WARNING: not removing hydrogen atom without neighbors\n",
      "RDKit WARNING: [12:49:36] WARNING: not removing hydrogen atom without neighbors\n",
      "RDKit WARNING: [12:49:36] WARNING: not removing hydrogen atom without neighbors\n",
      "RDKit WARNING: [12:49:36] WARNING: not removing hydrogen atom without neighbors\n",
      "RDKit WARNING: [12:49:36] WARNING: not removing hydrogen atom without neighbors\n",
      "RDKit WARNING: [12:49:36] WARNING: not removing hydrogen atom without neighbors\n",
      "RDKit WARNING: [12:49:36] WARNING: not removing hydrogen atom without neighbors\n",
      "RDKit WARNING: [12:49:36] WARNING: not removing hydrogen atom without neighbors\n",
      "RDKit WARNING: [12:49:36] WARNING: not removing hydrogen atom without neighbors\n",
      "RDKit WARNING: [12:49:36] WARNING: not removing hydrogen atom without neighbors\n",
      "RDKit WARNING: [12:49:36] WARNING: not removing hydrogen atom without neighbors\n",
      "RDKit WARNING: [12:49:36] WARNING: not removing hydrogen atom without neighbors\n",
      "RDKit WARNING: [12:49:36] WARNING: not removing hydrogen atom without neighbors\n",
      "RDKit WARNING: [12:49:36] WARNING: not removing hydrogen atom without neighbors\n",
      "RDKit WARNING: [12:49:36] WARNING: not removing hydrogen atom without neighbors\n",
      "RDKit WARNING: [12:49:36] WARNING: not removing hydrogen atom without neighbors\n",
      "RDKit WARNING: [12:49:36] WARNING: not removing hydrogen atom without neighbors\n"
     ]
    },
    {
     "name": "stdout",
     "output_type": "stream",
     "text": [
      "BBBP 123 2050 2039 2039 1631 204 204\n"
     ]
    },
    {
     "name": "stderr",
     "output_type": "stream",
     "text": [
      "RDKit WARNING: [12:49:36] WARNING: not removing hydrogen atom without neighbors\n",
      "RDKit WARNING: [12:49:36] WARNING: not removing hydrogen atom without neighbors\n",
      "RDKit WARNING: [12:49:36] WARNING: not removing hydrogen atom without neighbors\n",
      "RDKit WARNING: [12:49:36] WARNING: not removing hydrogen atom without neighbors\n",
      "RDKit WARNING: [12:49:36] WARNING: not removing hydrogen atom without neighbors\n",
      "RDKit WARNING: [12:49:36] WARNING: not removing hydrogen atom without neighbors\n",
      "RDKit WARNING: [12:49:36] WARNING: not removing hydrogen atom without neighbors\n",
      "RDKit WARNING: [12:49:36] WARNING: not removing hydrogen atom without neighbors\n",
      "RDKit WARNING: [12:49:36] WARNING: not removing hydrogen atom without neighbors\n",
      "RDKit WARNING: [12:49:36] WARNING: not removing hydrogen atom without neighbors\n",
      "RDKit WARNING: [12:49:36] WARNING: not removing hydrogen atom without neighbors\n",
      "RDKit WARNING: [12:49:36] WARNING: not removing hydrogen atom without neighbors\n",
      "RDKit WARNING: [12:49:36] WARNING: not removing hydrogen atom without neighbors\n",
      "RDKit WARNING: [12:49:36] WARNING: not removing hydrogen atom without neighbors\n",
      "RDKit WARNING: [12:49:36] WARNING: not removing hydrogen atom without neighbors\n",
      "RDKit WARNING: [12:49:36] WARNING: not removing hydrogen atom without neighbors\n",
      "RDKit WARNING: [12:49:36] WARNING: not removing hydrogen atom without neighbors\n",
      "RDKit WARNING: [12:49:36] WARNING: not removing hydrogen atom without neighbors\n",
      "RDKit WARNING: [12:49:36] WARNING: not removing hydrogen atom without neighbors\n",
      "RDKit WARNING: [12:49:36] WARNING: not removing hydrogen atom without neighbors\n",
      "RDKit WARNING: [12:49:36] WARNING: not removing hydrogen atom without neighbors\n",
      "RDKit WARNING: [12:49:36] WARNING: not removing hydrogen atom without neighbors\n",
      "RDKit WARNING: [12:49:36] WARNING: not removing hydrogen atom without neighbors\n",
      "RDKit WARNING: [12:49:36] WARNING: not removing hydrogen atom without neighbors\n",
      "RDKit WARNING: [12:49:36] WARNING: not removing hydrogen atom without neighbors\n",
      "RDKit WARNING: [12:49:36] WARNING: not removing hydrogen atom without neighbors\n",
      "RDKit WARNING: [12:49:36] WARNING: not removing hydrogen atom without neighbors\n",
      "RDKit WARNING: [12:49:36] WARNING: not removing hydrogen atom without neighbors\n",
      "RDKit WARNING: [12:49:36] WARNING: not removing hydrogen atom without neighbors\n",
      "RDKit WARNING: [12:49:36] WARNING: not removing hydrogen atom without neighbors\n",
      "RDKit WARNING: [12:49:36] WARNING: not removing hydrogen atom without neighbors\n",
      "RDKit WARNING: [12:49:36] WARNING: not removing hydrogen atom without neighbors\n",
      "RDKit WARNING: [12:49:36] WARNING: not removing hydrogen atom without neighbors\n",
      "RDKit WARNING: [12:49:36] WARNING: not removing hydrogen atom without neighbors\n",
      "RDKit WARNING: [12:49:36] WARNING: not removing hydrogen atom without neighbors\n",
      "RDKit WARNING: [12:49:36] WARNING: not removing hydrogen atom without neighbors\n",
      "RDKit WARNING: [12:49:36] WARNING: not removing hydrogen atom without neighbors\n",
      "RDKit WARNING: [12:49:36] WARNING: not removing hydrogen atom without neighbors\n",
      "RDKit WARNING: [12:49:36] WARNING: not removing hydrogen atom without neighbors\n",
      "RDKit WARNING: [12:49:36] WARNING: not removing hydrogen atom without neighbors\n"
     ]
    },
    {
     "name": "stdout",
     "output_type": "stream",
     "text": [
      "BBBP 124 2050 2039 2039 1631 204 204\n",
      "BACE 122 1513 1513 1513 1210 151 152\n",
      "BACE 123 1513 1513 1513 1210 151 152\n"
     ]
    },
    {
     "name": "stderr",
     "output_type": "stream",
     "text": [
      "smiles_field is deprecated and will be removed in a future version of DeepChem.Use feature_field instead.\n"
     ]
    },
    {
     "name": "stdout",
     "output_type": "stream",
     "text": [
      "BACE 124 1513 1513 1513 1210 151 152\n"
     ]
    },
    {
     "name": "stderr",
     "output_type": "stream",
     "text": [
      "/home/shenwanxiang/anaconda3/envs/tf2/lib/python3.6/site-packages/deepchem/data/data_loader.py:162: FutureWarning: featurize() is deprecated and has been renamed to create_dataset().featurize() will be removed in DeepChem 3.0\n",
      "  \"featurize() will be removed in DeepChem 3.0\", FutureWarning)\n",
      "RDKit WARNING: [12:50:17] WARNING: not removing hydrogen atom without neighbors\n",
      "RDKit WARNING: [12:50:35] WARNING: not removing hydrogen atom without neighbors\n",
      "RDKit WARNING: [12:51:49] WARNING: not removing hydrogen atom without neighbors\n",
      "RDKit WARNING: [12:52:05] WARNING: not removing hydrogen atom without neighbors\n"
     ]
    },
    {
     "name": "stdout",
     "output_type": "stream",
     "text": [
      "PCBA 122 437929 437929 437929 350343 43793 43793\n",
      "PCBA 123 437929 437929 437929 350343 43793 43793\n",
      "PCBA 124 437929 437929 437929 350343 43793 43793\n",
      "MUV 122 93087 93087 93087 74469 9309 9309\n",
      "MUV 123 93087 93087 93087 74469 9309 9309\n",
      "MUV 124 93087 93087 93087 74469 9309 9309\n"
     ]
    }
   ],
   "source": [
    "for dataset in loading_functions.keys():\n",
    "    \n",
    "    dirs = os.path.join('./data_and_index2', dataset)\n",
    "    \n",
    "    if not os.path.exists(dirs):\n",
    "        os.makedirs(dirs)\n",
    "        \n",
    "    load_data, s3_file, smiles_col = loading_functions[dataset]\n",
    "    \n",
    "    tasks, all_dataset, transformers = load_data(featurizer='Raw', split='index', verbose = 0)\n",
    "    all_dataset = dc.data.DiskDataset.merge(all_dataset)\n",
    "    \n",
    "    dfX = pd.DataFrame(all_dataset.ids, columns = ['smiles'])\n",
    "    dfY = pd.DataFrame(all_dataset.y, columns = tasks)\n",
    "    dfO = dfX.join(dfY)\n",
    "    if '.gz' in s3_file:\n",
    "        compression='gzip'\n",
    "    else:\n",
    "        compression= None\n",
    "    dfAll = pd.read_csv(os.path.join(s3_bucket, s3_file), compression=compression)\n",
    "    #assert len(dfO) == len(dfAll)\n",
    "    assert set(tasks).issubset(dfAll.columns) \n",
    "    \n",
    "    if dataset in scaffold_split_dataset:\n",
    "        split = 'scaffold'\n",
    "    else:\n",
    "        split = 'random'\n",
    "    \n",
    "    for seed in random_seeds:\n",
    "        np.random.seed(seed)\n",
    "        splitter = splitters[split]        \n",
    "        trian_valid_test = splitter.train_valid_test_split(all_dataset,\n",
    "                                                           seed  = seed,\n",
    "                                                             frac_train=0.8,\n",
    "                                                             frac_valid=0.1,\n",
    "                                                             frac_test=0.1)   \n",
    "\n",
    "        indexs = []\n",
    "        for subset in trian_valid_test:\n",
    "            idx = dfAll[dfAll[smiles_col].isin(subset.ids)].index.tolist()\n",
    "            indexs.append(idx)\n",
    "        sall = len(indexs[0]) + len(indexs[1]) + len(indexs[2])\n",
    "        print(dataset, seed, len(dfO), len(dfAll), sall, len(indexs[0]), len(indexs[1]), len(indexs[2]))\n",
    "\n",
    "        ind = pd.Series(indexs)\n",
    "        ind.to_pickle(os.path.join(dirs, '%s.%s%s.ind.pkl' % (dataset, split, seed)))   \n",
    "        \n",
    "    dfAll = dfAll.set_index(smiles_col)[tasks]\n",
    "    dfAll.index.name = 'smiles'\n",
    "    \n",
    "    dfAll.to_csv(os.path.join(dirs, '%s.csv.gz' % dataset), compression='gzip')"
   ]
  },
  {
   "cell_type": "code",
   "execution_count": null,
   "metadata": {},
   "outputs": [],
   "source": []
  },
  {
   "cell_type": "code",
   "execution_count": null,
   "metadata": {},
   "outputs": [],
   "source": []
  },
  {
   "cell_type": "markdown",
   "metadata": {},
   "source": [
    "# 03 deal with ChEMBL \n",
    "\n",
    "a benchmark dataset with 1,310 assays and 4,743,712 assay measurements of 456,331 compounds, scafflod split\n",
    "---\n",
    "* paper: Mayr et al: https://pubs.rsc.org/en/Content/ArticleLanding/2018/SC/c8sc00148k#!divAbstract;\n",
    "* paper Yang et al: https://pubs-acs-org.libproxy1.nus.edu.sg/doi/pdf/10.1021/acs.jcim.9b00237\n",
    "\n",
    "* dataset prep. details : http://www.rsc.org/suppdata/c8/sc/c8sc00148k/c8sc00148k1.pdf\n",
    "\n",
    "----\n",
    "\n",
    " * the orignal Chembel dataset from https://github.com/swansonk14/chemprop, compressed to gzip file\n",
    " * the orignal scaffold split induces from https://github.com/swansonk14/chemprop/blob/master/splits.tar.gz, according to Yang et al's paper, they use only three splits for ChEMBL dataset, the scaffold split 10,11,12 are taken from https://github.com/swansonk14/chemprop/blob/master/splits.tar.gz\n"
   ]
  },
  {
   "cell_type": "markdown",
   "metadata": {},
   "source": []
  },
  {
   "cell_type": "code",
   "execution_count": null,
   "metadata": {},
   "outputs": [],
   "source": []
  },
  {
   "cell_type": "code",
   "execution_count": null,
   "metadata": {},
   "outputs": [],
   "source": []
  },
  {
   "cell_type": "code",
   "execution_count": null,
   "metadata": {},
   "outputs": [],
   "source": []
  }
 ],
 "metadata": {
  "kernelspec": {
   "display_name": "Python 3",
   "language": "python",
   "name": "python3"
  },
  "language_info": {
   "codemirror_mode": {
    "name": "ipython",
    "version": 3
   },
   "file_extension": ".py",
   "mimetype": "text/x-python",
   "name": "python",
   "nbconvert_exporter": "python",
   "pygments_lexer": "ipython3",
   "version": "3.6.10"
  }
 },
 "nbformat": 4,
 "nbformat_minor": 4
}
